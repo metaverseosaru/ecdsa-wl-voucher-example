{
 "cells": [
  {
   "cell_type": "code",
   "execution_count": 1,
   "metadata": {
    "id": "lFCXUAwqYJBX"
   },
   "outputs": [],
   "source": [
    "#! pip install web3\n",
    "#! pip install eth_abi"
   ]
  },
  {
   "cell_type": "code",
   "execution_count": 2,
   "metadata": {
    "id": "yHGH2DkaYLGY"
   },
   "outputs": [],
   "source": [
    "from web3.auto import w3\n",
    "import secrets\n",
    "from eth_account import Account\n",
    "from eth_abi import encode_abi\n",
    "from eth_abi.packed import encode_abi_packed\n",
    "import web3\n",
    "from hexbytes.main import HexBytes\n",
    "from eth_account.messages import encode_defunct"
   ]
  },
  {
   "cell_type": "markdown",
   "metadata": {
    "id": "NPQph2AWf_Fc"
   },
   "source": [
    "# Get the signer address"
   ]
  },
  {
   "cell_type": "markdown",
   "metadata": {
    "id": "Op7tFz1Hu8FW"
   },
   "source": [
    "The private key needs to be kept safe locally.\n",
    "This will never ever leave your local environment."
   ]
  },
  {
   "cell_type": "code",
   "execution_count": 3,
   "metadata": {
    "colab": {
     "base_uri": "https://localhost:8080/",
     "height": 35
    },
    "id": "AHCD0IQ-Zvne",
    "outputId": "9a0221e3-7d6c-4977-e55c-f3fa8b8979a1"
   },
   "outputs": [
    {
     "data": {
      "text/plain": [
       "'0x6101bda470935a155228a0335f8de1a52d4a3c808087aa7b47e4b99a41350b96'"
      ]
     },
     "execution_count": 3,
     "metadata": {},
     "output_type": "execute_result"
    }
   ],
   "source": [
    "private_key = secrets.token_hex(32)\n",
    "private_key = \"0x\"+private_key\n",
    "private_key"
   ]
  },
  {
   "cell_type": "markdown",
   "metadata": {
    "id": "vzeaJCoVvOJT"
   },
   "source": [
    "This public key sits on the contract to verify the signed message."
   ]
  },
  {
   "cell_type": "code",
   "execution_count": 4,
   "metadata": {
    "colab": {
     "base_uri": "https://localhost:8080/",
     "height": 35
    },
    "id": "_tGOa2lyZ7X2",
    "outputId": "fe271e7c-990a-41ca-8483-9535f20f8399"
   },
   "outputs": [
    {
     "data": {
      "text/plain": [
       "'0xb1929Cf7002Ad50c28CAeCF57cE2CaaE1758BeA4'"
      ]
     },
     "execution_count": 4,
     "metadata": {},
     "output_type": "execute_result"
    }
   ],
   "source": [
    "acct = Account.from_key(private_key)\n",
    "public_key = acct.address\n",
    "public_key"
   ]
  },
  {
   "cell_type": "markdown",
   "metadata": {
    "id": "GOFtpzpFKmST"
   },
   "source": [
    "# Construct a ticketnumbered voucher"
   ]
  },
  {
   "cell_type": "code",
   "execution_count": 9,
   "metadata": {
    "colab": {
     "base_uri": "https://localhost:8080/"
    },
    "id": "wo4rulGAC71U",
    "outputId": "70e7ea63-bff8-44c1-e7db-a864cfae212e"
   },
   "outputs": [
    {
     "name": "stdout",
     "output_type": "stream",
     "text": [
      "===============================\n",
      "TicketNumber: 1\n",
      "messageHash 0x2f5b529db9b40a80998a2da1470ac029550c30f24860621d7fdd58089d7827cd\n",
      "signature 0x4d77e6b158d54d346ed3498e5dfbffce6f32c2b07936257e1503969dfe614bf665bca28d4afc999de1133942de9723451f8a6b5bd401193bf445ca25eed07fd21c\n",
      "===============================\n",
      "TicketNumber: 2\n",
      "messageHash 0x0556b0ab30601e90d743467e40a0929dc34a5f103d14adcf79eb9ccacbb06734\n",
      "signature 0x1cb460148dde3dd971142d3aeea3466272a5579b91aefe0ec55de365f376fd897533df95892304a2ea0723714d19f5016b083f9ad7737b65680e8517f6b7bf221c\n",
      "===============================\n",
      "[\"0x4d77e6b158d54d346ed3498e5dfbffce6f32c2b07936257e1503969dfe614bf665bca28d4afc999de1133942de9723451f8a6b5bd401193bf445ca25eed07fd21c\",\"0x1cb460148dde3dd971142d3aeea3466272a5579b91aefe0ec55de365f376fd897533df95892304a2ea0723714d19f5016b083f9ad7737b65680e8517f6b7bf221c\"]\n",
      "[1, 2]\n"
     ]
    }
   ],
   "source": [
    "wl_address    = \"0x5B38Da6a701c568545dCfcB03FcB875f56beddC4\"\n",
    "ticketNumbers = [1,2] \n",
    "\n",
    "signatures = []\n",
    "for ticketNumber in ticketNumbers:\n",
    "    encoded = HexBytes(w3.toHex(encode_abi_packed(['address', 'uint256'], [wl_address, ticketNumber])))\n",
    "    msg = encode_defunct(hexstr=encoded.hex())\n",
    "    signed = w3.eth.account.sign_message(msg, private_key=private_key)\n",
    "    print(\"===============================\")\n",
    "    print(\"TicketNumber:\", ticketNumber)\n",
    "    print(\"messageHash\", signed.messageHash.hex())\n",
    "    print(\"signature\", signed.signature.hex())\n",
    "    signatures.append(signed.signature.hex())\n",
    "\n",
    "print(\"===============================\")\n",
    "print(\"[\\\"\"+\"\\\",\\\"\".join(signatures)+\"\\\"]\")\n",
    "print(ticketNumbers)"
   ]
  },
  {
   "cell_type": "markdown",
   "metadata": {
    "id": "tc0x-Dtigav3"
   },
   "source": [
    "# Construct a message\n"
   ]
  },
  {
   "cell_type": "markdown",
   "metadata": {
    "id": "mFQ4LIZ_vSgM"
   },
   "source": [
    "Whitlisted address to be signed."
   ]
  },
  {
   "cell_type": "code",
   "execution_count": 10,
   "metadata": {
    "id": "O-fg_xqEgDYR"
   },
   "outputs": [],
   "source": [
    "wl_address = \"0xAb8483F64d9C6d1EcF9b849Ae677dD3315835cb2\""
   ]
  },
  {
   "cell_type": "markdown",
   "metadata": {
    "id": "6WAh3-bbjrdU"
   },
   "source": [
    "abi.encode() based encoding. Web3.py does not have this functionality for some reasons, and encode_abi from the eth_abi library needs to be used in place to generate the HexBytes object. It is not recommended to use abi.encode() on the contract side to bundle data. abi.encodePacked() is the way. "
   ]
  },
  {
   "cell_type": "code",
   "execution_count": 11,
   "metadata": {
    "colab": {
     "base_uri": "https://localhost:8080/"
    },
    "id": "GCDYf6vDhXFy",
    "outputId": "a8a247c7-21a2-4bae-fdaf-3a9cd382d535"
   },
   "outputs": [
    {
     "data": {
      "text/plain": [
       "(HexBytes('0x000000000000000000000000ab8483f64d9c6d1ecf9b849ae677dd3315835cb2'),\n",
       " 32)"
      ]
     },
     "execution_count": 11,
     "metadata": {},
     "output_type": "execute_result"
    }
   ],
   "source": [
    "binary_encoded = encode_abi(['address'], [wl_address])\n",
    "encoded = HexBytes(w3.toHex(binary_encoded))\n",
    "assert(encoded.hex() == \"0x000000000000000000000000ab8483f64d9c6d1ecf9b849ae677dd3315835cb2\")\n",
    "encoded, len(encoded)"
   ]
  },
  {
   "cell_type": "markdown",
   "metadata": {
    "id": "bEubpOcllMjD"
   },
   "source": [
    "keccak256(bytes memory). Keccak256 hashing of HexBytes if necessary."
   ]
  },
  {
   "cell_type": "code",
   "execution_count": 12,
   "metadata": {
    "colab": {
     "base_uri": "https://localhost:8080/"
    },
    "id": "nBuCmmRghgKx",
    "outputId": "64fd0b8d-f195-42ae-a59d-572f1d3c2c13"
   },
   "outputs": [
    {
     "data": {
      "text/plain": [
       "(HexBytes('0xe92b278610ce8b6027ef7ad432103699b0132d8b129c33a54a54aa5151a105a3'),\n",
       " 32)"
      ]
     },
     "execution_count": 12,
     "metadata": {},
     "output_type": "execute_result"
    }
   ],
   "source": [
    "keccaked1 = web3.Web3.keccak(encoded)\n",
    "assert(keccaked1.hex() == \"0xe92b278610ce8b6027ef7ad432103699b0132d8b129c33a54a54aa5151a105a3\")\n",
    "keccaked1, len(keccaked1)"
   ]
  },
  {
   "cell_type": "markdown",
   "metadata": {
    "id": "ZZrz1pIIj2pd"
   },
   "source": [
    "keccak256(abi.encodePacked(address)).\n",
    "\n",
    "If one wants to encode # of allowed mints, go with keccak256(abi.encodePacked(address, uint256)).\n"
   ]
  },
  {
   "cell_type": "code",
   "execution_count": 13,
   "metadata": {
    "colab": {
     "base_uri": "https://localhost:8080/"
    },
    "id": "eGE33DhQj2DK",
    "outputId": "4c5674e0-cdee-4174-b830-e52a8365d7c0"
   },
   "outputs": [
    {
     "data": {
      "text/plain": [
       "(HexBytes('0x999bf57501565dbd2fdcea36efa2b9aef8340a8901e3459f4a4c926275d36cdb'),\n",
       " 32)"
      ]
     },
     "execution_count": 13,
     "metadata": {},
     "output_type": "execute_result"
    }
   ],
   "source": [
    "output = web3.Web3.solidityKeccak(['address'], [wl_address])\n",
    "assert(output.hex() == \"0x999bf57501565dbd2fdcea36efa2b9aef8340a8901e3459f4a4c926275d36cdb\")\n",
    "output, len(output)"
   ]
  },
  {
   "cell_type": "markdown",
   "metadata": {
    "id": "U-06b3Hxm38W"
   },
   "source": [
    "ECDSA.toEthSignedMessageHash(bytes memory). \n",
    "\n",
    "Recreating the signed message body. This should really be done with encode_defunct() from the web3.py library."
   ]
  },
  {
   "cell_type": "code",
   "execution_count": 14,
   "metadata": {
    "colab": {
     "base_uri": "https://localhost:8080/"
    },
    "id": "Ez9W29RCmVlk",
    "outputId": "ef4f7361-930a-4145-8eec-ad135cc93b0c"
   },
   "outputs": [
    {
     "data": {
      "text/plain": [
       "HexBytes('0x0173882dc0fd8ce6d5954295f0728cf328820043b17be91b44dee6ef0c8a9eb3')"
      ]
     },
     "execution_count": 14,
     "metadata": {},
     "output_type": "execute_result"
    }
   ],
   "source": [
    "output2 = web3.Web3.solidityKeccak(['string', 'string', 'bytes1'],\n",
    "                                  [\"\\x19Ethereum Signed Message:\\n\", str(len(encoded)), encoded.hex()])\n",
    "assert(output2.hex() == \"0x0173882dc0fd8ce6d5954295f0728cf328820043b17be91b44dee6ef0c8a9eb3\")\n",
    "output2\n"
   ]
  },
  {
   "cell_type": "markdown",
   "metadata": {
    "id": "mScLo7kqoeRg"
   },
   "source": [
    "ECDSA.toEthSignedMessageHash(bytes32)"
   ]
  },
  {
   "cell_type": "code",
   "execution_count": 15,
   "metadata": {
    "id": "sfH3aJy3nScL"
   },
   "outputs": [],
   "source": [
    "# ToDo. "
   ]
  },
  {
   "cell_type": "markdown",
   "metadata": {
    "id": "Fkx0TNjCopJ0"
   },
   "source": [
    "# Signing the message"
   ]
  },
  {
   "cell_type": "code",
   "execution_count": 16,
   "metadata": {
    "colab": {
     "base_uri": "https://localhost:8080/"
    },
    "id": "ycoevZIbojz2",
    "outputId": "ab0dde43-32f8-4ff8-f949-d00595de3e5d"
   },
   "outputs": [
    {
     "name": "stdout",
     "output_type": "stream",
     "text": [
      "messageHash 0x0173882dc0fd8ce6d5954295f0728cf328820043b17be91b44dee6ef0c8a9eb3\n",
      "signature 0xbd3df4655ebfee480cf9bc1204e12175bea4a818c34f3c122666c592a9c13a2326bd4d1e4a314c3d0d7fc567d49c0eaa5b33e0e83164304cd4a43ca8bdb8a0561b\n"
     ]
    }
   ],
   "source": [
    "msg = encode_defunct(hexstr=encoded.hex())\n",
    "signed = w3.eth.account.sign_message(msg, private_key=private_key)\n",
    "assert(signed.messageHash.hex() == output2.hex())\n",
    "print(\"messageHash\", signed.messageHash.hex())\n",
    "print(\"signature\", signed.signature.hex())"
   ]
  },
  {
   "cell_type": "code",
   "execution_count": null,
   "metadata": {},
   "outputs": [],
   "source": []
  }
 ],
 "metadata": {
  "colab": {
   "collapsed_sections": [],
   "name": "ESDCA test for the AkumuDragonz contract",
   "provenance": []
  },
  "kernelspec": {
   "display_name": "Python 3 (ipykernel)",
   "language": "python",
   "name": "python3"
  },
  "language_info": {
   "codemirror_mode": {
    "name": "ipython",
    "version": 3
   },
   "file_extension": ".py",
   "mimetype": "text/x-python",
   "name": "python",
   "nbconvert_exporter": "python",
   "pygments_lexer": "ipython3",
   "version": "3.9.12"
  }
 },
 "nbformat": 4,
 "nbformat_minor": 1
}
